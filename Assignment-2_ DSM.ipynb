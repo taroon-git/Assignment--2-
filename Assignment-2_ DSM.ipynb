{
 "cells": [
  {
   "cell_type": "code",
   "execution_count": null,
   "id": "cab0865d-4623-4868-ad28-113a0f1db10e",
   "metadata": {},
   "outputs": [],
   "source": []
  },
  {
   "cell_type": "code",
   "execution_count": null,
   "id": "acadaecc-a726-47bf-8c97-855da8f6f471",
   "metadata": {},
   "outputs": [],
   "source": [
    " #Q:1 Write a program to accept percentage from the user and display the grade according to the following criteria:\n",
    "    \n",
    "   # Marks                   Grade\n",
    "   #  >90                     A\n",
    "   #  >80 and <=90            B\n",
    "   #  >=60 and <=80           C\n",
    "   #  below 60                D"
   ]
  },
  {
   "cell_type": "code",
   "execution_count": 15,
   "id": "e44e1695-7062-4134-bc56-b3c7a40d1c82",
   "metadata": {},
   "outputs": [
    {
     "name": "stdin",
     "output_type": "stream",
     "text": [
      "Enter your marks 33\n"
     ]
    },
    {
     "name": "stdout",
     "output_type": "stream",
     "text": [
      "Grade D\n"
     ]
    }
   ],
   "source": [
    "marks = int(input(\"Enter your marks\"))\n",
    "if(marks > 90):\n",
    "    print(\"Grade A\")\n",
    "elif(marks > 80 and marks <=90) :\n",
    "    print(\"Grade B\")\n",
    "elif(marks >=60 and marks <=80) :\n",
    "    print(\"Grade C\")\n",
    "else:\n",
    "    print(\"Grade D\")"
   ]
  },
  {
   "cell_type": "code",
   "execution_count": null,
   "id": "e1e287f0-b635-4bcf-b427-9991c33e9d78",
   "metadata": {},
   "outputs": [],
   "source": [
    "#Q:2Write a program to accept the cost price of a bike and display the road tax to be paid according to the following criteria:\n",
    "        # Tax                                Cost Price (in Rs.)\n",
    "        # 15%                                   >100000\n",
    "        # 10%                                  >50000 and <=100000\n",
    "        # 5%                                    <=50000\n",
    "        "
   ]
  },
  {
   "cell_type": "code",
   "execution_count": 19,
   "id": "a15ef015-ff58-430c-a1ac-60c2b4b28e5e",
   "metadata": {},
   "outputs": [
    {
     "name": "stdin",
     "output_type": "stream",
     "text": [
      "Enter the price of Bike 200000\n"
     ]
    },
    {
     "name": "stdout",
     "output_type": "stream",
     "text": [
      "Tax to be pay 15% of cost price \n",
      "Paid =  30000.0\n"
     ]
    }
   ],
   "source": [
    "c_price = int(input(\"Enter the price of Bike\"))\n",
    "if(c_price > 100000):\n",
    "    print(\"Tax to be pay 15% of cost price \")\n",
    "    tax = c_price * 15/100\n",
    "elif(c_price > 50000 and c_price <=100000):\n",
    "    print(\"Tax to be pay 10% of cost price\")\n",
    "    tax = c_price *10/100\n",
    "else:\n",
    "    tax = c_price * 5/100\n",
    "    print(\"Tax to be pay 5% of cost price\")\n",
    "print(\"Paid = \", tax)"
   ]
  },
  {
   "cell_type": "code",
   "execution_count": null,
   "id": "09193203-af66-47f7-bb9c-df23c435b60d",
   "metadata": {},
   "outputs": [],
   "source": [
    "# Q3: Accept any city from the user and display monuments of that city ?\n",
    "\n",
    "    #  City                                Monuments\n",
    "    # Delhi                                 Red Fort \n",
    "    # Agra                                 Taj Mahal \n",
    "    # Jaipur                               Jal Mahal\n",
    "    "
   ]
  },
  {
   "cell_type": "code",
   "execution_count": 24,
   "id": "de32e7b5-c8b9-401e-b7ff-0a88e535e6c8",
   "metadata": {},
   "outputs": [
    {
     "name": "stdin",
     "output_type": "stream",
     "text": [
      "Enter any city Jaipur\n"
     ]
    },
    {
     "name": "stdout",
     "output_type": "stream",
     "text": [
      "The Monuments of that city is  Jal Mahal\n"
     ]
    }
   ],
   "source": [
    "city = input(\"Enter any city\")\n",
    "dict = {\"Delhi\" : 'Red Fort' , \"Agra\" : 'Taj Mahal' , \"Jaipur\" : 'Jal Mahal' } \n",
    "if(city == \"Delhi\" or city == \"delhi\"):\n",
    "    print(\"The Monuments of that city is \", 'Red Fort')\n",
    "elif(city == \"Agra\" or  city == \"agra\"):\n",
    "    print(\"The Mounments of that city is \", 'Taj Mahal')\n",
    "else:\n",
    "    print(\"The Monuments of that city is \", 'Jal Mahal')\n",
    "    "
   ]
  },
  {
   "cell_type": "code",
   "execution_count": null,
   "id": "3de6a193-2b2f-467a-83ee-3f538fc58a05",
   "metadata": {},
   "outputs": [],
   "source": []
  },
  {
   "cell_type": "code",
   "execution_count": 3,
   "id": "1ca65895-37d3-45ec-b84b-6445963324e9",
   "metadata": {},
   "outputs": [],
   "source": [
    "# Q4: Check how many times a given number can be divided by  3 before it is less than or equal to 10 \n",
    "\n",
    "# num = int(input(\"Enter any number\"))\n",
    "# if(num%3==0):\n",
    "#     print(\"Number is divisible by 3\")\n",
    "# else:\n",
    "#     print(\"Not divisible\")"
   ]
  },
  {
   "cell_type": "code",
   "execution_count": null,
   "id": "d3022c92-5a98-4ff7-8147-aca2f611c812",
   "metadata": {},
   "outputs": [],
   "source": [
    "# Q5: Why and when to use while loop in python  give a detailed description with example?\n",
    "\n",
    "-->  While Loop is used to execute a block of statements repeatedly until a given condition is satisfied.\n",
    "     And when the condition becomes false, the line immediately after the loop in the program is executed.\n",
    "-->  To run the same task multiple times , while loop should be used.\n"
   ]
  },
  {
   "cell_type": "code",
   "execution_count": 9,
   "id": "3c06c8b0-2cde-46c7-b06c-0ac48931ab08",
   "metadata": {},
   "outputs": [
    {
     "name": "stdout",
     "output_type": "stream",
     "text": [
      " PWskills 0\n",
      " PWskills 1\n",
      " PWskills 2\n",
      " PWskills 3\n",
      " PWskills 4\n",
      " PWskills 5\n",
      " PWskills 6\n",
      " PWskills 7\n",
      " PWskills 8\n",
      " PWskills 9\n"
     ]
    }
   ],
   "source": [
    "# For Ex- To print \"PWskills\" 10 times by using while loop \n",
    "i = 0\n",
    "while(i<10):\n",
    "    print(\" PWskills\",i)\n",
    "    i = i+1"
   ]
  },
  {
   "cell_type": "code",
   "execution_count": 4,
   "id": "dfe9d22b-f4b5-4c7f-a150-2fc587913198",
   "metadata": {},
   "outputs": [
    {
     "name": "stdin",
     "output_type": "stream",
     "text": [
      "Enter the value of n 5\n"
     ]
    },
    {
     "name": "stdout",
     "output_type": "stream",
     "text": [
      "5 4 3 2 1 \n",
      "5 4 3 2 \n",
      "5 4 3 \n",
      "5 4 \n",
      "5 \n"
     ]
    }
   ],
   "source": [
    "# Q:6  Pattern  - 1\n",
    "    \n",
    "#     5 4 3 2 1\n",
    "#     5 4 3 2 \n",
    "#     5 4 3 \n",
    "#     5 4\n",
    "#     5\n",
    "    \n",
    "\n",
    "n = int(input(\"Enter the value of n\"))\n",
    "i = 1\n",
    "while(i<=n):\n",
    "    j = 5\n",
    "    while(j>=i):\n",
    "        print(j,end = \" \")\n",
    "        j = j-1\n",
    "    print()\n",
    "    i = i+1   "
   ]
  },
  {
   "cell_type": "code",
   "execution_count": 2,
   "id": "07fdbec7-457b-4f67-bea5-f910f036bbb7",
   "metadata": {},
   "outputs": [
    {
     "name": "stdin",
     "output_type": "stream",
     "text": [
      "Enter any number for rows  5\n"
     ]
    },
    {
     "name": "stdout",
     "output_type": "stream",
     "text": [
      "1 \n",
      "1 2 \n",
      "1 2 3 \n",
      "1 2 3 4 \n",
      "1 2 3 4 5 \n"
     ]
    }
   ],
   "source": [
    "#Q:6 Pattern - 2\n",
    " \n",
    "    # 1\n",
    "    # 1 2\n",
    "    # 1 2 3\n",
    "    # 1 2 3 4\n",
    "    # 1 2 3 4 5\n",
    "\n",
    "num = int(input(\"Enter any number for rows \"))\n",
    "\n",
    "i = 1\n",
    "while(i<=num):\n",
    "          j = 1\n",
    "          while(j<=i):\n",
    "              print(j,end=\" \")\n",
    "              j = j+1\n",
    "          print()\n",
    "          i = i+1"
   ]
  },
  {
   "cell_type": "code",
   "execution_count": 4,
   "id": "9a30a63c-fd15-45e1-aa7c-70530a776967",
   "metadata": {},
   "outputs": [
    {
     "name": "stdin",
     "output_type": "stream",
     "text": [
      "Enter the number of rows: 4\n"
     ]
    },
    {
     "name": "stdout",
     "output_type": "stream",
     "text": [
      "   * \n",
      "  * * \n",
      " * * * \n",
      "* * * * \n"
     ]
    }
   ],
   "source": [
    "# Q6: Pattern 3\n",
    "\n",
    "#            *\n",
    "#           * *\n",
    "#         *  *  *\n",
    "#        *  *  *  *\n",
    "    \n",
    "\n",
    "num = int(input(\"Enter the number of rows:\"))\n",
    "row = 0\n",
    "while (row < num):\n",
    "    space = num - row-1\n",
    "    while(space > 0):\n",
    "        print(end = \" \")\n",
    "        space = space-1\n",
    "    star = row+1\n",
    "    while(star>0):\n",
    "        print(\"*\",end=\" \")\n",
    "        star = star - 1\n",
    "    row = row+1\n",
    "    print()"
   ]
  },
  {
   "cell_type": "code",
   "execution_count": 2,
   "id": "bb2e4334-8514-4be2-8dc4-4a4063bfb6ce",
   "metadata": {},
   "outputs": [
    {
     "name": "stdout",
     "output_type": "stream",
     "text": [
      "Hello\n"
     ]
    }
   ],
   "source": [
    "print(\"Hello\")"
   ]
  },
  {
   "cell_type": "code",
   "execution_count": 12,
   "id": "e9fbb438-52d8-4277-acc3-aa986b0855e5",
   "metadata": {},
   "outputs": [
    {
     "name": "stdout",
     "output_type": "stream",
     "text": [
      "1\n",
      "2\n",
      "3\n",
      "4\n",
      "5\n",
      "6\n",
      "7\n",
      "8\n",
      "9\n",
      "10\n"
     ]
    }
   ],
   "source": [
    "# Q7 and Q8\n",
    "count = 1\n",
    "while(count <= 10):\n",
    "    a = print(count)\n",
    "    count = count+1\n",
    "    # print(a)\n",
    "    \n",
    "    "
   ]
  },
  {
   "cell_type": "code",
   "execution_count": 13,
   "id": "bf5ec950-60de-4820-b26c-ca4907b508b2",
   "metadata": {},
   "outputs": [
    {
     "name": "stdout",
     "output_type": "stream",
     "text": [
      "10\n",
      "9\n",
      "8\n",
      "7\n",
      "6\n",
      "5\n",
      "4\n",
      "3\n",
      "2\n",
      "1\n"
     ]
    }
   ],
   "source": [
    "# Q7 and Q8 \n",
    "\n",
    "# reverse a while loop to display numbers from 10 to 1\n",
    "count = 10\n",
    "while(count >=1):\n",
    "    print(count)\n",
    "    count = count-1\n",
    "    "
   ]
  },
  {
   "cell_type": "code",
   "execution_count": null,
   "id": "6e480e85-09d8-4659-b106-1bee16b46c69",
   "metadata": {},
   "outputs": [],
   "source": []
  }
 ],
 "metadata": {
  "kernelspec": {
   "display_name": "Python 3 (ipykernel)",
   "language": "python",
   "name": "python3"
  },
  "language_info": {
   "codemirror_mode": {
    "name": "ipython",
    "version": 3
   },
   "file_extension": ".py",
   "mimetype": "text/x-python",
   "name": "python",
   "nbconvert_exporter": "python",
   "pygments_lexer": "ipython3",
   "version": "3.10.8"
  }
 },
 "nbformat": 4,
 "nbformat_minor": 5
}
